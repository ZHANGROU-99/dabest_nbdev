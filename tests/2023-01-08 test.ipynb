{
 "cells": [
  {
   "cell_type": "code",
   "execution_count": null,
   "id": "bac14be7",
   "metadata": {},
   "outputs": [
    {
     "name": "stdout",
     "output_type": "stream",
     "text": [
      "Collecting git+https://github.com/ZHANGROU-99/dabest_nbdev.git\n",
      "  Cloning https://github.com/ZHANGROU-99/dabest_nbdev.git to c:\\users\\zhang\\appdata\\local\\temp\\pip-req-build-la_hwzai\n",
      "  Resolved https://github.com/ZHANGROU-99/dabest_nbdev.git to commit 6dc58af4d0a0ac43e5472d9ab6e2a527562d24ca\n",
      "  Preparing metadata (setup.py): started\n",
      "  Preparing metadata (setup.py): finished with status 'done'\n",
      "Building wheels for collected packages: dabest-nbdev\n",
      "  Building wheel for dabest-nbdev (setup.py): started\n",
      "  Building wheel for dabest-nbdev (setup.py): finished with status 'done'\n",
      "  Created wheel for dabest-nbdev: filename=dabest_nbdev-0.0.1-py3-none-any.whl size=54488 sha256=3d1cded9c8ed9e208fe5e15faa49e14f3586b02c149a57af52a5ae19c782e391\n",
      "  Stored in directory: C:\\Users\\zhang\\AppData\\Local\\Temp\\pip-ephem-wheel-cache-p3bcgr2m\\wheels\\c6\\40\\19\\f6ca6d12cfacd9f31c29ee4b42f15021cf7b143e471c1fc687\n",
      "Successfully built dabest-nbdev\n",
      "Installing collected packages: dabest-nbdev\n",
      "Successfully installed dabest-nbdev-0.0.1\n"
     ]
    },
    {
     "name": "stderr",
     "output_type": "stream",
     "text": [
      "  Running command git clone --filter=blob:none --quiet https://github.com/ZHANGROU-99/dabest_nbdev.git 'C:\\Users\\zhang\\AppData\\Local\\Temp\\pip-req-build-la_hwzai'\n"
     ]
    }
   ],
   "source": [
    "!pip install git+https://github.com/ZHANGROU-99/dabest_nbdev.git"
   ]
  },
  {
   "cell_type": "code",
   "execution_count": null,
   "id": "946a0af1",
   "metadata": {},
   "outputs": [
    {
     "ename": "ModuleNotFoundError",
     "evalue": "No module named 'dabest_nbdev.dabest_nbdev'",
     "output_type": "error",
     "traceback": [
      "\u001b[1;31m---------------------------------------------------------------------------\u001b[0m",
      "\u001b[1;31mModuleNotFoundError\u001b[0m                       Traceback (most recent call last)",
      "Cell \u001b[1;32mIn[5], line 1\u001b[0m\n\u001b[1;32m----> 1\u001b[0m \u001b[38;5;28;01mimport\u001b[39;00m \u001b[38;5;21;01mdabest_nbdev\u001b[39;00m\n",
      "File \u001b[1;32m~\\anaconda3\\lib\\site-packages\\dabest_nbdev\\__init__.py:1\u001b[0m\n\u001b[1;32m----> 1\u001b[0m \u001b[38;5;28;01mfrom\u001b[39;00m \u001b[38;5;21;01mdabest_nbdev\u001b[39;00m\u001b[38;5;21;01m.\u001b[39;00m\u001b[38;5;21;01mdabest_nbdev\u001b[39;00m\u001b[38;5;21;01m.\u001b[39;00m\u001b[38;5;21;01mload\u001b[39;00m \u001b[38;5;28;01mimport\u001b[39;00m load\n\u001b[0;32m      2\u001b[0m __version__ \u001b[38;5;241m=\u001b[39m \u001b[38;5;124m\"\u001b[39m\u001b[38;5;124m0.0.1\u001b[39m\u001b[38;5;124m\"\u001b[39m\n",
      "\u001b[1;31mModuleNotFoundError\u001b[0m: No module named 'dabest_nbdev.dabest_nbdev'"
     ]
    }
   ],
   "source": [
    "import dabest_nbdev"
   ]
  },
  {
   "cell_type": "code",
   "execution_count": null,
   "id": "7008415e",
   "metadata": {},
   "outputs": [],
   "source": []
  }
 ],
 "metadata": {
  "kernelspec": {
   "display_name": "Python 3 (ipykernel)",
   "language": "python",
   "name": "python3"
  }
 },
 "nbformat": 4,
 "nbformat_minor": 5
}
