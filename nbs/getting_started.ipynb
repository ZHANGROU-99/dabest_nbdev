{
 "cells": [
  {
   "cell_type": "markdown",
   "metadata": {},
   "source": [
    "# Getting Started\n",
    "\n",
    "> DABEST is a package for Data Analysis using Bootstrap-Coupled ESTimation."
   ]
  },
  {
   "cell_type": "markdown",
   "metadata": {},
   "source": [
    "[Estimation statistics](https://en.wikipedia.org/wiki/Estimation_statistics) is a [simple framework](https://thenewstatistics.com/itns/) that avoids the [pitfalls](https://www.nature.com/articles/nmeth.3288) of significance testing. It uses familiar statistical concepts: means, mean differences, and error bars. More importantly, it focuses on the effect size of one's experiment/intervention, as opposed to a false dichotomy engendered by *P* values.\n",
    "\n",
    "An estimation plot has two key features.\n",
    "\n",
    "1. It presents all datapoints as a swarmplot, which orders each point to display the underlying distribution.\n",
    "\n",
    "2. It presents the effect size as a **bootstrap 95% confidence interval** on a **separate but aligned axes**.\n",
    "\n",
    "![The five kinds of estimation plots](docs/source/_images/showpiece.png?raw=true \"The five kinds of estimation plots.\")\n",
    "\n",
    "DABEST powers [estimationstats.com](https://www.estimationstats.com/), allowing everyone access to high-quality estimation plots."
   ]
  },
  {
   "cell_type": "markdown",
   "metadata": {},
   "source": [
    "## Install"
   ]
  },
  {
   "cell_type": "markdown",
   "metadata": {},
   "source": [
    "\n",
    "This package is tested on Python 3.6, 3.7, and 3.8.\n",
    "It is highly recommended to download the [Anaconda distribution](https://www.continuum.io/downloads) of Python in order to obtain the dependencies easily.\n",
    "\n",
    "You can install this package via `pip`.\n",
    "\n",
    "To install, at the command line run\n",
    "<!-- ```shell\n",
    "conda config --add channels conda-forge\n",
    "conda install dabest\n",
    "```\n",
    "or -->\n",
    "```shell\n",
    "pip install --upgrade dabest\n",
    "```\n",
    "You can also [clone](https://help.github.com/articles/cloning-a-repository) this repo locally.\n",
    "\n",
    "Then, navigate to the cloned repo in the command line and run\n",
    "\n",
    "```shell\n",
    "pip install .\n",
    "```\n",
    "\n"
   ]
  },
  {
   "cell_type": "markdown",
   "metadata": {},
   "source": [
    "## How to use"
   ]
  },
  {
   "cell_type": "markdown",
   "metadata": {},
   "source": [
    "```python3\n",
    "import pandas as pd\n",
    "import dabest\n",
    "\n",
    "# Load the iris dataset. Requires internet access.\n",
    "iris = pd.read_csv(\"https://github.com/mwaskom/seaborn-data/raw/master/iris.csv\")\n",
    "\n",
    "# Load the above data into `dabest`.\n",
    "iris_dabest = dabest.load(data=iris, x=\"species\", y=\"petal_width\",\n",
    "                          idx=(\"setosa\", \"versicolor\", \"virginica\"))\n",
    "\n",
    "# Produce a Cumming estimation plot.\n",
    "iris_dabest.mean_diff.plot();\n",
    "```\n",
    "![A Cumming estimation plot of petal width from the iris dataset](https://github.com/ACCLAB/DABEST-python/blob/master/iris.png)\n",
    "\n",
    "Please refer to the official [tutorial](https://acclab.github.io/DABEST-python-docs/tutorial.html) for more useful code snippets.\n"
   ]
  },
  {
   "cell_type": "code",
   "execution_count": null,
   "metadata": {},
   "outputs": [],
   "source": []
  }
 ],
 "metadata": {
  "kernelspec": {
   "display_name": "Python 3 (ipykernel)",
   "language": "python",
   "name": "python3"
  }
 },
 "nbformat": 4,
 "nbformat_minor": 4
}
