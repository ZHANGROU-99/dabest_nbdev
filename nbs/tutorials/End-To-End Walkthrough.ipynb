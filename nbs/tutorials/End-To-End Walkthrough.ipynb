{
 "cells": [
  {
   "cell_type": "markdown",
   "id": "24f7dbb7",
   "metadata": {},
   "source": [
    "# End-To-End Walkthrough\n",
    "\n",
    "> A step-by-step guide to using dabest_nbdev\n",
    "- order: 1"
   ]
  },
  {
   "cell_type": "code",
   "execution_count": null,
   "id": "5d7bdbd7",
   "metadata": {},
   "outputs": [],
   "source": [
    "import numpy as np\n",
    "import pandas as pd"
   ]
  },
  {
   "cell_type": "code",
   "execution_count": null,
   "id": "907d741e",
   "metadata": {},
   "outputs": [],
   "source": []
  }
 ],
 "metadata": {
  "kernelspec": {
   "display_name": "Python 3 (ipykernel)",
   "language": "python",
   "name": "python3"
  }
 },
 "nbformat": 4,
 "nbformat_minor": 5
}
