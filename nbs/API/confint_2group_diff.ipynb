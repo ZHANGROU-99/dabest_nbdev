{
 "cells": [
  {
   "cell_type": "markdown",
   "id": "aefb9998",
   "metadata": {},
   "source": [
    "# confint_2group_diff\n",
    "\n",
    "- order: 8"
   ]
  },
  {
   "cell_type": "code",
   "execution_count": null,
   "id": "1e57b903",
   "metadata": {},
   "outputs": [],
   "source": [
    "#| default_exp confint_2group_diff_test"
   ]
  },
  {
   "cell_type": "code",
   "execution_count": null,
   "id": "a3099b1a",
   "metadata": {},
   "outputs": [],
   "source": [
    "#| hide\n",
    "from __future__ import annotations"
   ]
  },
  {
   "cell_type": "code",
   "execution_count": null,
   "id": "9748430a",
   "metadata": {},
   "outputs": [],
   "source": [
    "#| hide\n",
    "from nbdev.showdoc import *\n",
    "import nbdev\n",
    "nbdev.nbdev_export()"
   ]
  },
  {
   "cell_type": "code",
   "execution_count": null,
   "id": "cc34a1ff",
   "metadata": {},
   "outputs": [],
   "source": [
    "#|export\n",
    "def get_1():\n",
    "    return 1+1"
   ]
  }
 ],
 "metadata": {
  "kernelspec": {
   "display_name": "Python 3 (ipykernel)",
   "language": "python",
   "name": "python3"
  }
 },
 "nbformat": 4,
 "nbformat_minor": 5
}
