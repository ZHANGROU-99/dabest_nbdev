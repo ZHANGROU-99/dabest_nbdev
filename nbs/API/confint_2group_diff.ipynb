{
 "cells": [
  {
   "cell_type": "markdown",
   "id": "aefb9998",
   "metadata": {},
   "source": [
    "# confint_2group_diff\n",
    "\n",
    "- order: 8"
   ]
  },
  {
   "cell_type": "code",
   "execution_count": null,
   "id": "1e57b903",
   "metadata": {},
   "outputs": [],
   "source": [
    "#| default_exp confint_2group_diff"
   ]
  },
  {
   "cell_type": "code",
   "execution_count": null,
   "id": "a3099b1a",
   "metadata": {},
   "outputs": [],
   "source": [
    "#| hide\n",
    "from __future__ import annotations"
   ]
  },
  {
   "cell_type": "code",
   "execution_count": null,
   "id": "9748430a",
   "metadata": {},
   "outputs": [],
   "source": [
    "#| hide\n",
    "from nbdev.showdoc import *\n",
    "import nbdev\n",
    "nbdev.nbdev_export()"
   ]
  },
  {
   "cell_type": "code",
   "execution_count": null,
   "id": "22578ecb",
   "metadata": {},
   "outputs": [],
   "source": [
    "#|export\n",
    "def create_jackknife_indexes(data):\n",
    "    \"\"\"\n",
    "    Given an array-like, creates a jackknife bootstrap.\n",
    "\n",
    "    For a given set of data Y, the jackknife bootstrap sample J[i]\n",
    "    is defined as the data set Y with the ith data point deleted.\n",
    "\n",
    "    Keywords\n",
    "    --------\n",
    "    data: array-like\n",
    "\n",
    "    Returns\n",
    "    -------\n",
    "    Generator that yields all jackknife bootstrap samples.\n",
    "    \"\"\"\n",
    "    from numpy import arange, delete\n",
    "\n",
    "    index_range = arange(0, len(data))\n",
    "    return (delete(index_range, i) for i in index_range)\n"
   ]
  },
  {
   "cell_type": "code",
   "execution_count": null,
   "id": "a322188a",
   "metadata": {},
   "outputs": [],
   "source": []
  }
 ],
 "metadata": {
  "kernelspec": {
   "display_name": "Python 3 (ipykernel)",
   "language": "python",
   "name": "python3"
  }
 },
 "nbformat": 4,
 "nbformat_minor": 5
}
