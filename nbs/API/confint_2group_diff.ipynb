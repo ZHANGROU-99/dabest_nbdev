{
 "cells": [
  {
   "cell_type": "markdown",
   "id": "5c833964",
   "metadata": {},
   "source": [
    "# confint_2group_diff\n",
    "\n",
    "- order: 8"
   ]
  },
  {
   "cell_type": "code",
   "execution_count": null,
   "id": "2a45fd36",
   "metadata": {},
   "outputs": [],
   "source": [
    "#| default_exp confint_2group_diff"
   ]
  },
  {
   "cell_type": "code",
   "execution_count": null,
   "id": "59ff959f",
   "metadata": {},
   "outputs": [],
   "source": []
  }
 ],
 "metadata": {
  "kernelspec": {
   "display_name": "Python 3 (ipykernel)",
   "language": "python",
   "name": "python3"
  }
 },
 "nbformat": 4,
 "nbformat_minor": 5
}
